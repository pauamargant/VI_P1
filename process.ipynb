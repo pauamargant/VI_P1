{
 "cells": [
  {
   "cell_type": "markdown",
   "metadata": {},
   "source": [
    "# Process"
   ]
  },
  {
   "cell_type": "markdown",
   "metadata": {},
   "source": [
    "## Question 1 \n",
    "**Are accidents more frequent during weekdays or weekends? Is there any\n",
    "difference between before COVID-19 and after**\n",
    "\n",
    "\n",
    "- Vam plantejar diferents maneres de representar quantitats d'accidents amb un enfocament a poder comparar tant findes/setmana i abans/despres covid. Vam començar fent primer fent un barplot de accidents/dia setmana per veure la tendència de les dades i vam veure que no permetia del tot bé veure la diferència general entre finde i setmana.\n",
    "- Seguidamnet vam repetir el barplot agrupant entre setmana i cap de setmana, fent la mitjana d'accidents per dia i vam veure que la diferència era molt més clara.\n",
    "- Seguidament vam començar a afegir el covid i per ferho vam agrupar per abans i després de covid. Vam plantejar primer columna segons dia de la setmana i també columna segons covid. Vam veure més útil fer columna per covid i color per dia de la setmana, jka que permet veure milor la diferenciad e abans i després de ocivd que es lom es important.\n",
    "\n",
    "- Vam provar també un boxplot però vam veure que la informació extra de la distrubició no era del tot rellevant per l'objeciu de la visualització, ja que lo unic que notava era que weekday és una distr més ample, com es desperar."
   ]
  },
  {
   "cell_type": "markdown",
   "metadata": {},
   "source": [
    "## Question 2\n",
    "**Accidenys by time of day**\n",
    "- Vam problar un polar barplot - no permet comparar bé hores diferents i no es escala, no va be"
   ]
  }
 ],
 "metadata": {
  "language_info": {
   "name": "python"
  }
 },
 "nbformat": 4,
 "nbformat_minor": 2
}
